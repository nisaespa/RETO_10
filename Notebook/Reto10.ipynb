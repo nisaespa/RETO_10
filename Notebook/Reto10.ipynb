{
 "cells": [
  {
   "cell_type": "markdown",
   "metadata": {},
   "source": [
    "# Punto 1\n",
    "+ Desarrollar un algoritmo que calcule el promedio de un arreglo de reales."
   ]
  },
  {
   "cell_type": "code",
   "execution_count": 11,
   "metadata": {},
   "outputs": [
    {
     "name": "stdout",
     "output_type": "stream",
     "text": [
      "Arreglo: [10.0, 20.0, 30.0, 40.0, 50.0, 60.0, 70.0, 80.0, 90.0, 100.0]\n",
      "Promedio: 55.0\n"
     ]
    }
   ],
   "source": [
    "# Función para calcular el promedio de un arreglo\n",
    "def calcular_promedio_arreglo(arreglo):\n",
    "    suma = sum(arreglo) # Función (sum) para sumar los números dentro del arreglo\n",
    "    promedio = suma / len(arreglo) # Para el promedio, dividendo es la suma delos numeros y el divisor es la cantidad de elementos en el arreglo\n",
    "    return promedio # Retorna el promedio\n",
    "\n",
    "# Iniciar programa\n",
    "if __name__ == \"__main__\": \n",
    "    arreglo = [] # Definir vacío el arreglo para que se elija que números poner \n",
    "    cantidad_numeros = int(input(\"¿Cuantos números quiere en su arreglo?: \")) # Para la cantidad de números\n",
    "    for _ in range(cantidad_numeros): # Para recorrer en el rango de la cantidad de números\n",
    "        numero = float(input(\"Ingrese un número para el arreglo: \")) # Pedir los números las veces que el rango diga\n",
    "        arreglo.append(numero) # Agregar cada numero en el arreglo con la función (append)\n",
    "    promedio = calcular_promedio_arreglo(arreglo) # Definir variable \"promedio\" que contenga la función \"calcular_promedio_arreglo\"\n",
    "    print(\"Arreglo:\", arreglo) # Imprimir el arreglo\n",
    "    print(\"Promedio:\", promedio) # Imprimir el promedio\n",
    "\n"
   ]
  },
  {
   "cell_type": "markdown",
   "metadata": {},
   "source": [
    "# Punto 2\n",
    "+ Desarrollar un algoritmo que calcule el producto punto de dos arreglos de números enteros (reales) de igual tamaño."
   ]
  },
  {
   "cell_type": "code",
   "execution_count": 26,
   "metadata": {},
   "outputs": [
    {
     "name": "stdout",
     "output_type": "stream",
     "text": [
      "El arreglo 1 es:[0, 5, 6, 8, 9, 0, 3, 4, 0, 10, 5, 0, 6, 9, 7, 8, 6, 3, 5, 4]\n",
      "El arreglo 2 es:[8, 9, 6, 2, 0, 0, 3, 2, 1, 5, 4, 7, 8, 9, 0, 2, 3, 6, 5, 0]\n",
      "El producto punto de los dos arreglos es: 390\n"
     ]
    }
   ],
   "source": [
    "# Función para calcular el producto punto de dos arreglos\n",
    "def producto_punto(arreglo_1, arreglo_2): # los arreglos son los argumentos\n",
    "    producto_punto = 0 # Definimos la variable producto_punto en 0\n",
    "    for i in range(cantidad_numeros): # Iteración del rango que quiera el usuario\n",
    "        producto_punto += arreglo_1[i] * arreglo_2[i] # Formula para el producto punto, la suma de los productos de sus elementos (de los arreglos)\n",
    "    return producto_punto # retorna producto_punto\n",
    "# Iniciar programa\n",
    "if __name__ == \"__main__\": \n",
    "    arreglo_1 = [] # Definir vacío el arreglo para que se elija que números poner \n",
    "    arreglo_2 = [] # Definir vacío el arreglo para que se elija que números poner \n",
    "    cantidad_numeros = int(input(\"¿Cuantos números quiere en su arreglo?: \")) # Para la cantidad de números\n",
    "    for i in range(cantidad_numeros): # Para recorrer en el rango de la cantidad de números\n",
    "        numeros_1 = int(input(\"Ingrese los números que quiera en el primer arreglo\")) # Números del primer arreglo\n",
    "        arreglo_1.append(numeros_1) # Añadir los números al primer arreglo\n",
    "    for i in range(cantidad_numeros): # Para recorrer en el rango de la cantidad de números\n",
    "        numeros_2 = int(input(\"Ingrese los números que quiera en el segundo arreglo\")) # Números del segundo arreglo\n",
    "        arreglo_2.append(numeros_2) # Añadir los números al segundo arreglo\n",
    "    print(f\"El arreglo 1 es:{arreglo_1}\") # Imprimir arreglo 1\n",
    "    print(f\"El arreglo 2 es:{arreglo_2}\") # Imprimir arreglo 2\n",
    "    product_punto = producto_punto(arreglo_1, arreglo_2) # Definir variable como la función 'producto_punto'\n",
    "    print(f\"El producto punto de los dos arreglos es: {product_punto}\") # Imprimir el producto punto de los dos arreglos"
   ]
  },
  {
   "cell_type": "markdown",
   "metadata": {},
   "source": [
    "# Punto 3\n",
    "+ Hacer un algoritmo que deje al final de un arreglo de números todos los ceros que aparezcan en dicho arreglo."
   ]
  },
  {
   "cell_type": "code",
   "execution_count": 29,
   "metadata": {},
   "outputs": [
    {
     "name": "stdout",
     "output_type": "stream",
     "text": [
      "El arreglo es: [0, 3, 9, 5, 8, 7, 17, 29, 85, 0, 6, 4, 25, 14, 19, 9, 0, 3, 0, 6]\n",
      "La cantidad de veces que aparece el número '0' es: 4\n"
     ]
    }
   ],
   "source": [
    "def conteo_de_ceros():\n",
    "    arreglo = [] # Definir vacío el arreglo para que se elija que números poner \n",
    "    cantidad_numeros = int(input(\"¿Cuantos números quiere en su arreglo?: \")) # Para la cantidad de números\n",
    "    for i in range(cantidad_numeros): # Para recorrer en el rango de la cantidad de números\n",
    "        numeros = int(input(\"Ingrese los números que quiera en el arreglo\")) # Números del arreglo\n",
    "        arreglo.append(numeros) # Para añadir los números al arreglo\n",
    "    conteo_0 = arreglo.count(0) # Con la función 'count' para contar cuantas veces está el número '0' en el arreglo\n",
    "    print(f\"El arreglo es: {arreglo}\") # Imprimir arreglo\n",
    "    print(f\"La cantidad de veces que aparece el número '0' es: {conteo_0}\") # Imprimir el conteo de ceros\n",
    "# Iniciar programa\n",
    "if __name__ == \"__main__\": \n",
    "    conteo_de_ceros() # Llamar función2\n",
    "    \n",
    "\n"
   ]
  }
 ],
 "metadata": {
  "kernelspec": {
   "display_name": "Python 3",
   "language": "python",
   "name": "python3"
  },
  "language_info": {
   "codemirror_mode": {
    "name": "ipython",
    "version": 3
   },
   "file_extension": ".py",
   "mimetype": "text/x-python",
   "name": "python",
   "nbconvert_exporter": "python",
   "pygments_lexer": "ipython3",
   "version": "3.11.4"
  }
 },
 "nbformat": 4,
 "nbformat_minor": 2
}
